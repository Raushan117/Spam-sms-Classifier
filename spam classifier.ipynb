{
 "cells": [
  {
   "cell_type": "code",
   "execution_count": 5,
   "metadata": {
    "_cell_guid": "b1076dfc-b9ad-4769-8c92-a6c4dae69d19",
    "_uuid": "8f2839f25d086af736a60e9eeb907d3b93b6e0e5",
    "execution": {
     "iopub.execute_input": "2021-06-14T21:00:22.949120Z",
     "iopub.status.busy": "2021-06-14T21:00:22.948807Z",
     "iopub.status.idle": "2021-06-14T21:00:28.574996Z",
     "shell.execute_reply": "2021-06-14T21:00:28.574058Z",
     "shell.execute_reply.started": "2021-06-14T21:00:22.949045Z"
    }
   },
   "outputs": [],
   "source": [
    "import numpy as np\n",
    "import pandas as pd \n",
    "from keras.preprocessing.text import Tokenizer\n",
    "from keras.preprocessing.sequence import pad_sequences\n",
    "#from keras.models import Sequential\n",
    "from keras.layers import Dense, Embedding, LSTM\n",
    "from sklearn.model_selection import train_test_split\n",
    "#import chardet"
   ]
  },
  {
   "cell_type": "code",
   "execution_count": 10,
   "metadata": {
    "execution": {
     "iopub.execute_input": "2021-06-14T21:00:28.576796Z",
     "iopub.status.busy": "2021-06-14T21:00:28.576354Z",
     "iopub.status.idle": "2021-06-14T21:00:31.922296Z",
     "shell.execute_reply": "2021-06-14T21:00:31.921467Z",
     "shell.execute_reply.started": "2021-06-14T21:00:28.576760Z"
    }
   },
   "outputs": [],
   "source": [
    "\n",
    "df = pd.read_csv('C:/Users/raush/OneDrive/Desktop/data/spam.csv',encoding= 'latin')\n"
   ]
  },
  {
   "cell_type": "code",
   "execution_count": 11,
   "metadata": {
    "execution": {
     "iopub.execute_input": "2021-06-14T21:00:31.924551Z",
     "iopub.status.busy": "2021-06-14T21:00:31.924218Z",
     "iopub.status.idle": "2021-06-14T21:00:31.944113Z",
     "shell.execute_reply": "2021-06-14T21:00:31.943154Z",
     "shell.execute_reply.started": "2021-06-14T21:00:31.924515Z"
    }
   },
   "outputs": [
    {
     "data": {
      "text/html": [
       "<div>\n",
       "<style scoped>\n",
       "    .dataframe tbody tr th:only-of-type {\n",
       "        vertical-align: middle;\n",
       "    }\n",
       "\n",
       "    .dataframe tbody tr th {\n",
       "        vertical-align: top;\n",
       "    }\n",
       "\n",
       "    .dataframe thead th {\n",
       "        text-align: right;\n",
       "    }\n",
       "</style>\n",
       "<table border=\"1\" class=\"dataframe\">\n",
       "  <thead>\n",
       "    <tr style=\"text-align: right;\">\n",
       "      <th></th>\n",
       "      <th>v1</th>\n",
       "      <th>v2</th>\n",
       "      <th>Unnamed: 2</th>\n",
       "      <th>Unnamed: 3</th>\n",
       "      <th>Unnamed: 4</th>\n",
       "    </tr>\n",
       "  </thead>\n",
       "  <tbody>\n",
       "    <tr>\n",
       "      <th>0</th>\n",
       "      <td>ham</td>\n",
       "      <td>Go until jurong point, crazy.. Available only ...</td>\n",
       "      <td>NaN</td>\n",
       "      <td>NaN</td>\n",
       "      <td>NaN</td>\n",
       "    </tr>\n",
       "    <tr>\n",
       "      <th>1</th>\n",
       "      <td>ham</td>\n",
       "      <td>Ok lar... Joking wif u oni...</td>\n",
       "      <td>NaN</td>\n",
       "      <td>NaN</td>\n",
       "      <td>NaN</td>\n",
       "    </tr>\n",
       "    <tr>\n",
       "      <th>2</th>\n",
       "      <td>spam</td>\n",
       "      <td>Free entry in 2 a wkly comp to win FA Cup fina...</td>\n",
       "      <td>NaN</td>\n",
       "      <td>NaN</td>\n",
       "      <td>NaN</td>\n",
       "    </tr>\n",
       "    <tr>\n",
       "      <th>3</th>\n",
       "      <td>ham</td>\n",
       "      <td>U dun say so early hor... U c already then say...</td>\n",
       "      <td>NaN</td>\n",
       "      <td>NaN</td>\n",
       "      <td>NaN</td>\n",
       "    </tr>\n",
       "    <tr>\n",
       "      <th>4</th>\n",
       "      <td>ham</td>\n",
       "      <td>Nah I don't think he goes to usf, he lives aro...</td>\n",
       "      <td>NaN</td>\n",
       "      <td>NaN</td>\n",
       "      <td>NaN</td>\n",
       "    </tr>\n",
       "  </tbody>\n",
       "</table>\n",
       "</div>"
      ],
      "text/plain": [
       "     v1                                                 v2 Unnamed: 2  \\\n",
       "0   ham  Go until jurong point, crazy.. Available only ...        NaN   \n",
       "1   ham                      Ok lar... Joking wif u oni...        NaN   \n",
       "2  spam  Free entry in 2 a wkly comp to win FA Cup fina...        NaN   \n",
       "3   ham  U dun say so early hor... U c already then say...        NaN   \n",
       "4   ham  Nah I don't think he goes to usf, he lives aro...        NaN   \n",
       "\n",
       "  Unnamed: 3 Unnamed: 4  \n",
       "0        NaN        NaN  \n",
       "1        NaN        NaN  \n",
       "2        NaN        NaN  \n",
       "3        NaN        NaN  \n",
       "4        NaN        NaN  "
      ]
     },
     "execution_count": 11,
     "metadata": {},
     "output_type": "execute_result"
    }
   ],
   "source": [
    "df.head()"
   ]
  },
  {
   "cell_type": "code",
   "execution_count": 12,
   "metadata": {
    "execution": {
     "iopub.execute_input": "2021-06-14T21:00:31.946355Z",
     "iopub.status.busy": "2021-06-14T21:00:31.945997Z",
     "iopub.status.idle": "2021-06-14T21:00:31.955190Z",
     "shell.execute_reply": "2021-06-14T21:00:31.954108Z",
     "shell.execute_reply.started": "2021-06-14T21:00:31.946319Z"
    }
   },
   "outputs": [],
   "source": [
    "df[\"label\"]=df[\"v1\"]\n",
    "df[\"message\"]=df[\"v2\"]\n",
    "df.drop([\"Unnamed: 2\",\"Unnamed: 3\",\"Unnamed: 4\", \"v1\", \"v2\"],axis=1,inplace=True)"
   ]
  },
  {
   "cell_type": "code",
   "execution_count": 13,
   "metadata": {
    "execution": {
     "iopub.execute_input": "2021-06-14T21:00:31.957242Z",
     "iopub.status.busy": "2021-06-14T21:00:31.956805Z",
     "iopub.status.idle": "2021-06-14T21:00:31.969060Z",
     "shell.execute_reply": "2021-06-14T21:00:31.968156Z",
     "shell.execute_reply.started": "2021-06-14T21:00:31.957204Z"
    }
   },
   "outputs": [
    {
     "data": {
      "text/html": [
       "<div>\n",
       "<style scoped>\n",
       "    .dataframe tbody tr th:only-of-type {\n",
       "        vertical-align: middle;\n",
       "    }\n",
       "\n",
       "    .dataframe tbody tr th {\n",
       "        vertical-align: top;\n",
       "    }\n",
       "\n",
       "    .dataframe thead th {\n",
       "        text-align: right;\n",
       "    }\n",
       "</style>\n",
       "<table border=\"1\" class=\"dataframe\">\n",
       "  <thead>\n",
       "    <tr style=\"text-align: right;\">\n",
       "      <th></th>\n",
       "      <th>label</th>\n",
       "      <th>message</th>\n",
       "    </tr>\n",
       "  </thead>\n",
       "  <tbody>\n",
       "    <tr>\n",
       "      <th>0</th>\n",
       "      <td>ham</td>\n",
       "      <td>Go until jurong point, crazy.. Available only ...</td>\n",
       "    </tr>\n",
       "    <tr>\n",
       "      <th>1</th>\n",
       "      <td>ham</td>\n",
       "      <td>Ok lar... Joking wif u oni...</td>\n",
       "    </tr>\n",
       "    <tr>\n",
       "      <th>2</th>\n",
       "      <td>spam</td>\n",
       "      <td>Free entry in 2 a wkly comp to win FA Cup fina...</td>\n",
       "    </tr>\n",
       "    <tr>\n",
       "      <th>3</th>\n",
       "      <td>ham</td>\n",
       "      <td>U dun say so early hor... U c already then say...</td>\n",
       "    </tr>\n",
       "    <tr>\n",
       "      <th>4</th>\n",
       "      <td>ham</td>\n",
       "      <td>Nah I don't think he goes to usf, he lives aro...</td>\n",
       "    </tr>\n",
       "  </tbody>\n",
       "</table>\n",
       "</div>"
      ],
      "text/plain": [
       "  label                                            message\n",
       "0   ham  Go until jurong point, crazy.. Available only ...\n",
       "1   ham                      Ok lar... Joking wif u oni...\n",
       "2  spam  Free entry in 2 a wkly comp to win FA Cup fina...\n",
       "3   ham  U dun say so early hor... U c already then say...\n",
       "4   ham  Nah I don't think he goes to usf, he lives aro..."
      ]
     },
     "execution_count": 13,
     "metadata": {},
     "output_type": "execute_result"
    }
   ],
   "source": [
    "df.head()"
   ]
  },
  {
   "cell_type": "code",
   "execution_count": 14,
   "metadata": {
    "execution": {
     "iopub.execute_input": "2021-06-14T21:00:31.970956Z",
     "iopub.status.busy": "2021-06-14T21:00:31.970525Z",
     "iopub.status.idle": "2021-06-14T21:00:32.223675Z",
     "shell.execute_reply": "2021-06-14T21:00:32.222826Z",
     "shell.execute_reply.started": "2021-06-14T21:00:31.970922Z"
    }
   },
   "outputs": [],
   "source": [
    "max_features = 1000000\n",
    "tokenizer = Tokenizer(num_words=max_features)\n",
    "tokenizer.fit_on_texts(df['message'].values)\n",
    "X = tokenizer.texts_to_sequences(df['message'].values)\n",
    "X = pad_sequences(X)"
   ]
  },
  {
   "cell_type": "code",
   "execution_count": 18,
   "metadata": {
    "execution": {
     "iopub.execute_input": "2021-06-14T21:00:32.225945Z",
     "iopub.status.busy": "2021-06-14T21:00:32.225698Z",
     "iopub.status.idle": "2021-06-14T21:00:35.901398Z",
     "shell.execute_reply": "2021-06-14T21:00:35.900548Z",
     "shell.execute_reply.started": "2021-06-14T21:00:32.225921Z"
    }
   },
   "outputs": [
    {
     "name": "stdout",
     "output_type": "stream",
     "text": [
      "Model: \"sequential\"\n",
      "_________________________________________________________________\n",
      "Layer (type)                 Output Shape              Param #   \n",
      "=================================================================\n",
      "embedding (Embedding)        (None, 189, 128)          128000000 \n",
      "_________________________________________________________________\n",
      "lstm (LSTM)                  (None, 100)               91600     \n",
      "_________________________________________________________________\n",
      "dense (Dense)                (None, 2)                 202       \n",
      "=================================================================\n",
      "Total params: 128,091,802\n",
      "Trainable params: 128,091,802\n",
      "Non-trainable params: 0\n",
      "_________________________________________________________________\n",
      "None\n"
     ]
    }
   ],
   "source": [
    "from tensorflow import keras\n",
    "model = keras.Sequential()\n",
    "model.add(Embedding(max_features, 128, input_length = X.shape[1], trainable=True))\n",
    "model.add(LSTM(100))\n",
    "model.add(Dense(2,activation='sigmoid'))\n",
    "model.compile(loss = 'categorical_crossentropy', optimizer='adam',metrics = ['accuracy'])\n",
    "print(model.summary())"
   ]
  },
  {
   "cell_type": "code",
   "execution_count": 19,
   "metadata": {
    "execution": {
     "iopub.execute_input": "2021-06-14T21:00:35.904268Z",
     "iopub.status.busy": "2021-06-14T21:00:35.903913Z",
     "iopub.status.idle": "2021-06-14T21:00:35.921296Z",
     "shell.execute_reply": "2021-06-14T21:00:35.920354Z",
     "shell.execute_reply.started": "2021-06-14T21:00:35.904239Z"
    }
   },
   "outputs": [
    {
     "name": "stdout",
     "output_type": "stream",
     "text": [
      "X_train Shape:  (4457, 189)\n",
      "Y_train Shape:  (4457, 2)\n",
      "X_test Shape:  (1115, 189)\n",
      "Y_test Shape:  (1115, 2)\n"
     ]
    }
   ],
   "source": [
    "Y = pd.get_dummies(df['label']).values\n",
    "X_train, X_test, Y_train, Y_test = train_test_split(X,Y, test_size = 0.2) #split dataset to 80% training, 20% testing\n",
    "print(\"X_train Shape: \",X_train.shape)\n",
    "print(\"Y_train Shape: \",Y_train.shape)\n",
    "print(\"X_test Shape: \",X_test.shape)\n",
    "print(\"Y_test Shape: \",Y_test.shape)"
   ]
  },
  {
   "cell_type": "code",
   "execution_count": 20,
   "metadata": {
    "execution": {
     "iopub.execute_input": "2021-06-14T21:00:35.923486Z",
     "iopub.status.busy": "2021-06-14T21:00:35.923270Z",
     "iopub.status.idle": "2021-06-14T21:09:16.442735Z",
     "shell.execute_reply": "2021-06-14T21:09:16.441680Z",
     "shell.execute_reply.started": "2021-06-14T21:00:35.923465Z"
    }
   },
   "outputs": [
    {
     "name": "stdout",
     "output_type": "stream",
     "text": [
      "Epoch 1/2\n",
      "140/140 [==============================] - 598s 4s/step - loss: 0.1428 - accuracy: 0.9522 - val_loss: 0.0422 - val_accuracy: 0.9901\n",
      "Epoch 2/2\n",
      "140/140 [==============================] - 665s 5s/step - loss: 0.0198 - accuracy: 0.9942 - val_loss: 0.0540 - val_accuracy: 0.9857\n"
     ]
    }
   ],
   "source": [
    "batch_size = 32\n",
    "history=model.fit(X_train, Y_train, validation_data=(X_test, Y_test), epochs = 2, batch_size=batch_size)"
   ]
  },
  {
   "cell_type": "code",
   "execution_count": 21,
   "metadata": {
    "execution": {
     "iopub.execute_input": "2021-06-14T21:09:16.444920Z",
     "iopub.status.busy": "2021-06-14T21:09:16.444445Z",
     "iopub.status.idle": "2021-06-14T21:09:16.450480Z",
     "shell.execute_reply": "2021-06-14T21:09:16.449675Z",
     "shell.execute_reply.started": "2021-06-14T21:09:16.444880Z"
    }
   },
   "outputs": [],
   "source": [
    "def predict_message(message):\n",
    "    seq = tokenizer.texts_to_sequences(message)\n",
    "\n",
    "    padded = pad_sequences(seq, maxlen=X.shape[1])\n",
    "\n",
    "    pred = model.predict(padded)\n",
    "\n",
    "    labels = ['not spam','spam']\n",
    "    print(labels[np.argmax(pred)])"
   ]
  },
  {
   "cell_type": "code",
   "execution_count": 22,
   "metadata": {
    "execution": {
     "iopub.execute_input": "2021-06-14T21:09:16.452081Z",
     "iopub.status.busy": "2021-06-14T21:09:16.451597Z",
     "iopub.status.idle": "2021-06-14T21:09:16.820573Z",
     "shell.execute_reply": "2021-06-14T21:09:16.819662Z",
     "shell.execute_reply.started": "2021-06-14T21:09:16.452044Z"
    }
   },
   "outputs": [
    {
     "name": "stdout",
     "output_type": "stream",
     "text": [
      "spam\n"
     ]
    }
   ],
   "source": [
    "message = ['Congratulations! you have won a $1,000 Walmart gift card. Go to http://bit.ly/123456 to claim now.']\n",
    "predict_message(message)"
   ]
  },
  {
   "cell_type": "code",
   "execution_count": 23,
   "metadata": {
    "execution": {
     "iopub.execute_input": "2021-06-14T21:09:16.822390Z",
     "iopub.status.busy": "2021-06-14T21:09:16.821769Z",
     "iopub.status.idle": "2021-06-14T21:09:16.872317Z",
     "shell.execute_reply": "2021-06-14T21:09:16.871428Z",
     "shell.execute_reply.started": "2021-06-14T21:09:16.822341Z"
    }
   },
   "outputs": [
    {
     "name": "stdout",
     "output_type": "stream",
     "text": [
      "not spam\n"
     ]
    }
   ],
   "source": [
    "message = ['thanks for accepting my request to connect']\n",
    "predict_message(message)"
   ]
  },
  {
   "cell_type": "code",
   "execution_count": 24,
   "metadata": {
    "execution": {
     "iopub.execute_input": "2021-06-14T21:09:16.971006Z",
     "iopub.status.busy": "2021-06-14T21:09:16.970656Z",
     "iopub.status.idle": "2021-06-14T21:09:17.017740Z",
     "shell.execute_reply": "2021-06-14T21:09:17.016848Z",
     "shell.execute_reply.started": "2021-06-14T21:09:16.970970Z"
    }
   },
   "outputs": [
    {
     "name": "stdout",
     "output_type": "stream",
     "text": [
      "not spam\n"
     ]
    }
   ],
   "source": [
    "message = ['I updated the code. Can you check it from this link kaggle.com']\n",
    "predict_message(message)"
   ]
  },
  {
   "cell_type": "code",
   "execution_count": 25,
   "metadata": {
    "execution": {
     "iopub.execute_input": "2021-06-14T21:09:17.019247Z",
     "iopub.status.busy": "2021-06-14T21:09:17.018838Z",
     "iopub.status.idle": "2021-06-14T21:09:17.067121Z",
     "shell.execute_reply": "2021-06-14T21:09:17.062912Z",
     "shell.execute_reply.started": "2021-06-14T21:09:17.019112Z"
    },
    "scrolled": true
   },
   "outputs": [
    {
     "name": "stdout",
     "output_type": "stream",
     "text": [
      "spam\n"
     ]
    }
   ],
   "source": [
    "message = ['Congratz you won a 100 dollar check. Click here to claim your money']\n",
    "predict_message(message)"
   ]
  },
  {
   "cell_type": "code",
   "execution_count": 26,
   "metadata": {},
   "outputs": [],
   "source": [
    "model.save('spam_sms.h5')"
   ]
  },
  {
   "cell_type": "code",
   "execution_count": null,
   "metadata": {},
   "outputs": [],
   "source": []
  }
 ],
 "metadata": {
  "kernelspec": {
   "display_name": "Python 3",
   "language": "python",
   "name": "python3"
  },
  "language_info": {
   "codemirror_mode": {
    "name": "ipython",
    "version": 3
   },
   "file_extension": ".py",
   "mimetype": "text/x-python",
   "name": "python",
   "nbconvert_exporter": "python",
   "pygments_lexer": "ipython3",
   "version": "3.8.10"
  }
 },
 "nbformat": 4,
 "nbformat_minor": 4
}
